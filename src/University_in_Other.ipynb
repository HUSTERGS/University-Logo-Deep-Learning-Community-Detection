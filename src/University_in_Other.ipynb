{
 "cells": [
  {
   "cell_type": "code",
   "execution_count": 2,
   "metadata": {},
   "outputs": [],
   "source": [
    "import requests\n",
    "from selenium import webdriver\n",
    "from selenium.webdriver.common.keys import Keys\n",
    "from bs4 import BeautifulSoup\n",
    "import re\n",
    "import pandas as pd\n",
    "import html5lib\n",
    "from urllib.request import urlretrieve"
   ]
  },
  {
   "cell_type": "markdown",
   "metadata": {},
   "source": [
    "# USA "
   ]
  },
  {
   "cell_type": "code",
   "execution_count": 2,
   "metadata": {},
   "outputs": [],
   "source": [
    "res = requests.get('https://www.4icu.org/us/us-universities.htm')\n",
    "bsObj = BeautifulSoup(res.content)"
   ]
  },
  {
   "cell_type": "code",
   "execution_count": 3,
   "metadata": {},
   "outputs": [],
   "source": [
    "ulList = bsObj.select('td a')"
   ]
  },
  {
   "cell_type": "code",
   "execution_count": 4,
   "metadata": {},
   "outputs": [],
   "source": [
    "universityList = [x.get_text() for x in ulList]"
   ]
  },
  {
   "cell_type": "code",
   "execution_count": 5,
   "metadata": {},
   "outputs": [
    {
     "data": {
      "text/plain": [
       "1818"
      ]
     },
     "execution_count": 5,
     "metadata": {},
     "output_type": "execute_result"
    }
   ],
   "source": [
    "len(universityList)"
   ]
  },
  {
   "cell_type": "code",
   "execution_count": 6,
   "metadata": {},
   "outputs": [
    {
     "data": {
      "text/plain": [
       "'Bloomsburg University of Pennsylvania'"
      ]
     },
     "execution_count": 6,
     "metadata": {},
     "output_type": "execute_result"
    }
   ],
   "source": [
    "universityList[150]"
   ]
  },
  {
   "cell_type": "code",
   "execution_count": 2,
   "metadata": {},
   "outputs": [],
   "source": [
    "keywords = '{school} seal'"
   ]
  },
  {
   "cell_type": "code",
   "execution_count": 5,
   "metadata": {},
   "outputs": [],
   "source": [
    "def getUrl(universityName, keywords):\n",
    "    browser.get('https://www.google.com/imghp')\n",
    "    google_input = browser.find_element_by_class_name('gLFyf')\n",
    "    google_input.send_keys(keywords.format(school = universityName))\n",
    "    google_input.send_keys(Keys.ENTER)\n",
    "    first_result = browser.find_element_by_css_selector('#rg img')\n",
    "    src = first_result.get_attribute('src')\n",
    "    return src\n",
    "\n",
    "def downloadImg(url, directory, name, datatype):\n",
    "    from urllib.request import urlretrieve\n",
    "    urlretrieve(url, directory + name + '.' + datatype)"
   ]
  },
  {
   "cell_type": "code",
   "execution_count": null,
   "metadata": {},
   "outputs": [],
   "source": [
    "count = 0\n",
    "browser = webdriver.Chrome()\n",
    "for school in universityList:\n",
    "    url = ''\n",
    "    if count == 15:\n",
    "        count = 0\n",
    "        browser.close()\n",
    "        browser = webdriver.Chrome()\n",
    "    count += 1\n",
    "    try:\n",
    "        url = getUrl(school)\n",
    "        datatype = re.findall(r'image/.+?;', url)[0][6:-1]\n",
    "        downloadImg(url, './USA/', school, datatype)\n",
    "    except:\n",
    "        print('\\nUniversity :' + school + '    failed\\n')\n",
    "        continue\n",
    "    print('University : ' + school + '     Success')"
   ]
  },
  {
   "cell_type": "markdown",
   "metadata": {},
   "source": [
    "# UK"
   ]
  },
  {
   "cell_type": "code",
   "execution_count": 11,
   "metadata": {},
   "outputs": [],
   "source": [
    "res = requests.get('https://www.studying-in-uk.org/list-of-universities-in-the-united-kingdom/')\n",
    "bsObj = BeautifulSoup(res.content)"
   ]
  },
  {
   "cell_type": "code",
   "execution_count": 12,
   "metadata": {},
   "outputs": [],
   "source": [
    "uList = bsObj.select('.td-post-content ul li')"
   ]
  },
  {
   "cell_type": "code",
   "execution_count": 13,
   "metadata": {},
   "outputs": [
    {
     "data": {
      "text/plain": [
       "849"
      ]
     },
     "execution_count": 13,
     "metadata": {},
     "output_type": "execute_result"
    }
   ],
   "source": [
    "len(uList)"
   ]
  },
  {
   "cell_type": "code",
   "execution_count": 14,
   "metadata": {},
   "outputs": [],
   "source": [
    "uList = [x.get_text() for x in uList]"
   ]
  },
  {
   "cell_type": "markdown",
   "metadata": {},
   "source": [
    "# Canada"
   ]
  },
  {
   "cell_type": "code",
   "execution_count": null,
   "metadata": {},
   "outputs": [],
   "source": [
    "df = pd.read_html(requests.get('https://en.wikipedia.org/wiki/List_of_universities_in_Canada').content)"
   ]
  },
  {
   "cell_type": "code",
   "execution_count": 29,
   "metadata": {},
   "outputs": [],
   "source": [
    "universityList = list(df[0]['Name']) + list(df[1]['Name'])"
   ]
  },
  {
   "cell_type": "code",
   "execution_count": 30,
   "metadata": {},
   "outputs": [
    {
     "data": {
      "text/plain": [
       "97"
      ]
     },
     "execution_count": 30,
     "metadata": {},
     "output_type": "execute_result"
    }
   ],
   "source": [
    "len(universityList)"
   ]
  },
  {
   "cell_type": "code",
   "execution_count": null,
   "metadata": {},
   "outputs": [],
   "source": [
    "def main(universityList):\n",
    "    for item in universityList:\n",
    "        "
   ]
  },
  {
   "cell_type": "markdown",
   "metadata": {},
   "source": [
    "# Japan"
   ]
  },
  {
   "cell_type": "code",
   "execution_count": 42,
   "metadata": {},
   "outputs": [],
   "source": [
    "df = pd.read_html(requests.get('https://www.4icu.org/jp/japanese-universities.htm').content)"
   ]
  },
  {
   "cell_type": "code",
   "execution_count": 58,
   "metadata": {},
   "outputs": [],
   "source": [
    "universityList = list(df[0]['University'])"
   ]
  },
  {
   "cell_type": "code",
   "execution_count": null,
   "metadata": {},
   "outputs": [],
   "source": [
    "count = 0\n",
    "browser = webdriver.Chrome()\n",
    "for school in schoolList:\n",
    "    url = ''\n",
    "    if count == 15:\n",
    "        count = 0\n",
    "        browser.close()\n",
    "        browser = webdriver.Chrome()\n",
    "    count += 1\n",
    "    try:\n",
    "        url = getUrl(school)\n",
    "        datatype = re.findall(r'image/.+?;', url)[0][6:-1]\n",
    "        downloadImg(url, './Indian/', school, datatype)\n",
    "    except:\n",
    "        print('\\nUniversity :' + school + '    failed\\n')\n",
    "        continue\n",
    "    print('University : ' + school + '     Success')"
   ]
  },
  {
   "cell_type": "markdown",
   "metadata": {},
   "source": [
    "# Indian "
   ]
  },
  {
   "cell_type": "code",
   "execution_count": null,
   "metadata": {},
   "outputs": [],
   "source": [
    "bsObj = BeautifulSoup(requests.get('https://en.wikipedia.org/wiki/List_of_state_universities_in_India').content)"
   ]
  },
  {
   "cell_type": "code",
   "execution_count": null,
   "metadata": {},
   "outputs": [],
   "source": [
    "schoolList = [x.get_text().replace('\\n', '') for x in bsObj.select(\"th[scope='row']\")][:-18]"
   ]
  },
  {
   "cell_type": "markdown",
   "metadata": {},
   "source": [
    "# 对用的函数进行了基本的整合"
   ]
  },
  {
   "cell_type": "code",
   "execution_count": 34,
   "metadata": {},
   "outputs": [],
   "source": [
    "def getUrl(browser, universityName, keywords):\n",
    "    browser.get('https://www.google.com/imghp')\n",
    "    google_input = browser.find_element_by_class_name('gLFyf')\n",
    "    google_input.send_keys(keywords.format(school = universityName))\n",
    "    google_input.send_keys(Keys.ENTER)\n",
    "    first_result = browser.find_element_by_css_selector('#rg img')\n",
    "    src = first_result.get_attribute('src')\n",
    "    return src\n",
    "\n",
    "def downloadImg(url, directory, name, datatype):\n",
    "    from urllib.request import urlretrieve\n",
    "    urlretrieve(url, directory + name + '.' + datatype)\n",
    "\n",
    "def main(keywords, country, universityList):\n",
    "    count = 0\n",
    "    browser = webdriver.Chrome()\n",
    "    for school in universityList:\n",
    "        url = ''\n",
    "        if count == 15:\n",
    "            count = 0\n",
    "            browser.close()\n",
    "            browser = webdriver.Chrome()\n",
    "        count += 1\n",
    "        #try:\n",
    "        url = getUrl(browser, school, keywords)\n",
    "        datatype = re.findall(r'image/.+?;', url)[0][6:-1]\n",
    "        downloadImg(url, 'images/{}/'.format(country), school, datatype)\n",
    "        #except:\n",
    "        print('\\nUniversity :' + school + '    failed\\n')\n",
    "        continue\n",
    "        #print('University : ' + school + '     Success')"
   ]
  },
  {
   "cell_type": "markdown",
   "metadata": {},
   "source": [
    "# New Zealand"
   ]
  },
  {
   "cell_type": "code",
   "execution_count": 9,
   "metadata": {},
   "outputs": [],
   "source": [
    "df = pd.read_html(requests.get('https://www.university-list.net/New-Zealand/universities-2000.htm').content)"
   ]
  },
  {
   "cell_type": "code",
   "execution_count": 35,
   "metadata": {},
   "outputs": [],
   "source": [
    "universityList = list(df[0]['University name'])\n",
    "keywords = '{school} logo'"
   ]
  },
  {
   "cell_type": "code",
   "execution_count": null,
   "metadata": {},
   "outputs": [],
   "source": [
    "main(keywords, 'test', universityList)"
   ]
  },
  {
   "cell_type": "markdown",
   "metadata": {},
   "source": [
    "# France"
   ]
  },
  {
   "cell_type": "code",
   "execution_count": 37,
   "metadata": {},
   "outputs": [],
   "source": [
    "bsObj = BeautifulSoup(requests.get('https://www.hotcoursesabroad.com/study/france/international/schools-colleges-university/63/list.html?sortby=ALL&regionId=2&pageNo=1').content)"
   ]
  },
  {
   "cell_type": "code",
   "execution_count": 84,
   "metadata": {},
   "outputs": [],
   "source": [
    "browser = webdriver.Chrome()"
   ]
  },
  {
   "cell_type": "code",
   "execution_count": 63,
   "metadata": {},
   "outputs": [],
   "source": [
    "browser.get('https://www.hotcoursesabroad.com/study/france/international/schools-colleges-university/63/list.html?sortby=ALL&regionId=2&pageNo=1')"
   ]
  },
  {
   "cell_type": "code",
   "execution_count": null,
   "metadata": {},
   "outputs": [],
   "source": [
    "for i in range(2, 7):\n",
    "    url = 'https://www.hotcoursesabroad.com/study/france/international/schools-colleges-university/63/list.html?sortby=ALL&regionId=2&pageNo=' + str(i)\n",
    "    #browser.get(url)\n",
    "    bsObj = requests.get(url)\n",
    "    bsObj\n",
    "    a = browser.find_elements_by_css_selector('div.pr_lgo img[class]')\n",
    "    b = browser.find_elements_by_css_selector('div.sr_nam h2')\n",
    "    schList = [x.get_attribute('src') for x in a]\n",
    "    print(schList)\n",
    "    print([x.text for x in b])\n",
    "    for i, item in enumerate(schList):\n",
    "        urlretrieve(item, 'images/France/' + b[i].text + '.jpg')"
   ]
  },
  {
   "cell_type": "code",
   "execution_count": 2,
   "metadata": {},
   "outputs": [],
   "source": [
    "url = 'https://www.hotcoursesabroad.com/study/france/international/schools-colleges-university/63/list.html?sortby=ALL&regionId=2&pageNo=1'"
   ]
  },
  {
   "cell_type": "code",
   "execution_count": 3,
   "metadata": {},
   "outputs": [],
   "source": [
    "bsObj = BeautifulSoup(requests.get(url).content)"
   ]
  },
  {
   "cell_type": "code",
   "execution_count": 5,
   "metadata": {},
   "outputs": [],
   "source": [
    "a = bsObj.select('img[data-src]')"
   ]
  },
  {
   "cell_type": "markdown",
   "metadata": {},
   "source": [
    "# Netherlands"
   ]
  },
  {
   "cell_type": "code",
   "execution_count": 3,
   "metadata": {},
   "outputs": [],
   "source": [
    "temp = []\n",
    "for i in range(1, 6):\n",
    "    url = 'https://www.hotcoursesabroad.com/study/netherlands/international/schools-colleges-university/131/list.html?sortby=ALL&regionId=2&pageNo=' + str(i)\n",
    "    bsObj = BeautifulSoup(requests.get(url).content)\n",
    "    for x in [x['data-src'] for x in bsObj.select(\"img[data-src]\")][3:]:\n",
    "        temp.append(x)"
   ]
  },
  {
   "cell_type": "code",
   "execution_count": 22,
   "metadata": {},
   "outputs": [
    {
     "data": {
      "text/plain": [
       "49"
      ]
     },
     "execution_count": 22,
     "metadata": {},
     "output_type": "execute_result"
    }
   ],
   "source": [
    "len(temp)"
   ]
  },
  {
   "cell_type": "code",
   "execution_count": 32,
   "metadata": {},
   "outputs": [],
   "source": [
    "for i, item in enumerate(temp):\n",
    "    urlretrieve(item, 'images/Netherlands/' + names[i] + '.jpg')"
   ]
  },
  {
   "cell_type": "markdown",
   "metadata": {},
   "source": [
    "# HongKong    \n",
    "> 原本准备和France一样使用现成的网站，但是香港的大学效果不是很好，都是带文字的，所以还是先从wiki上得到列表，然后再重新爬"
   ]
  },
  {
   "cell_type": "code",
   "execution_count": 40,
   "metadata": {},
   "outputs": [],
   "source": [
    "df = pd.read_html(requests.get('https://zh.wikipedia.org/wiki/%E9%A6%99%E6%B8%AF%E5%A4%A7%E5%B0%88%E9%99%A2%E6%A0%A1%E5%88%97%E8%A1%A8').content)"
   ]
  },
  {
   "cell_type": "code",
   "execution_count": 6,
   "metadata": {},
   "outputs": [],
   "source": [
    "# names = []\n",
    "# for i in range(1, 5):\n",
    "#     url = 'https://www.hotcoursesabroad.com/study/hongkong/international/schools-colleges-university/84/list.html?sortby=ALL&regionId=4&pageNo=' + str(i)\n",
    "#     bsObj = BeautifulSoup(requests.get(url).content)\n",
    "#     for x in [x['alt'] for x in bsObj.select(\"img[data-src]\")][3:]:\n",
    "#         names.append(x)"
   ]
  },
  {
   "cell_type": "code",
   "execution_count": 43,
   "metadata": {},
   "outputs": [],
   "source": [
    "keywords = '{school} 校徽'"
   ]
  },
  {
   "cell_type": "code",
   "execution_count": null,
   "metadata": {},
   "outputs": [],
   "source": [
    "main(keywords, 'Hong Kong', df[0]['教育機構'])"
   ]
  },
  {
   "cell_type": "code",
   "execution_count": 42,
   "metadata": {},
   "outputs": [
    {
     "data": {
      "text/plain": [
       "0                     香港大學\n",
       "1                   香港中文大學\n",
       "2                   香港科技大學\n",
       "3                   香港理工大學\n",
       "4                   香港浸會大學\n",
       "5                   香港城市大學\n",
       "6                     嶺南大學\n",
       "7                   香港教育大學\n",
       "8                   香港公開大學\n",
       "9                   香港演藝學院\n",
       "10                  香港樹仁大學\n",
       "11                  香港恒生大學\n",
       "12                    珠海學院\n",
       "13                    明德學院\n",
       "14                    東華學院\n",
       "15                  明愛專上學院\n",
       "16                香港能仁專上學院\n",
       "17                    港專學院\n",
       "18                 宏恩基督教學院\n",
       "19                  耀中幼教學院\n",
       "20              香港高等教育科技學院\n",
       "21                香港專業教育學院\n",
       "22                香港知專設計學院\n",
       "23               明愛白英奇專業學校\n",
       "24                  明愛社區書院\n",
       "25                香港專業進修學校\n",
       "26                 青年會專業書院\n",
       "27    香港大學專業進修學院保良局何鴻燊社區書院\n",
       "28                香港科技專上書院\n",
       "29                才晉高等教育學院\n",
       "30                  高峰進修學院\n",
       "31                  香港藝術學院\n",
       "32           薩凡納藝術設計大學（香港）\n",
       "33          芝加哥大學布思商學院（香港）\n",
       "Name: 教育機構, dtype: object"
      ]
     },
     "execution_count": 42,
     "metadata": {},
     "output_type": "execute_result"
    }
   ],
   "source": [
    "df[0]['教育機構']"
   ]
  }
 ],
 "metadata": {
  "kernelspec": {
   "display_name": "Data Analysis",
   "language": "python",
   "name": "da"
  },
  "language_info": {
   "codemirror_mode": {
    "name": "ipython",
    "version": 3
   },
   "file_extension": ".py",
   "mimetype": "text/x-python",
   "name": "python",
   "nbconvert_exporter": "python",
   "pygments_lexer": "ipython3",
   "version": "3.6.8"
  }
 },
 "nbformat": 4,
 "nbformat_minor": 2
}
