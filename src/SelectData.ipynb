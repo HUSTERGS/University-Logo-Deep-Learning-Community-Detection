{
 "cells": [
  {
   "cell_type": "markdown",
   "metadata": {},
   "source": [
    "# 中国选取211 985"
   ]
  },
  {
   "cell_type": "code",
   "execution_count": 42,
   "metadata": {},
   "outputs": [],
   "source": [
    "import pandas as pd\n",
    "import os\n",
    "from shutil import copyfile\n",
    "import re"
   ]
  },
  {
   "cell_type": "code",
   "execution_count": 8,
   "metadata": {},
   "outputs": [],
   "source": [
    "df = pd.read_excel('./211 985.xlsx', names = ['names'])"
   ]
  },
  {
   "cell_type": "code",
   "execution_count": 2,
   "metadata": {},
   "outputs": [],
   "source": [
    "df = pd.read_excel('./CSRanking_USA.xlsx')"
   ]
  },
  {
   "cell_type": "code",
   "execution_count": 6,
   "metadata": {},
   "outputs": [
    {
     "data": {
      "text/plain": [
       "'/home/gs/git-repos/University-Logo-Deep-Learning-Community-Detection/data_with_class/USA'"
      ]
     },
     "execution_count": 6,
     "metadata": {},
     "output_type": "execute_result"
    }
   ],
   "source": [
    "os.chdir('./data_with_class/USA')\n",
    "os.getcwd()"
   ]
  },
  {
   "cell_type": "code",
   "execution_count": 22,
   "metadata": {},
   "outputs": [
    {
     "name": "stdout",
     "output_type": "stream",
     "text": [
      "第二军医大学 \n",
      "中国石油大学\n",
      "中国地质大学\n",
      "国防科学技术大学\n",
      "第四军医大学\n",
      "新疆大学\n"
     ]
    }
   ],
   "source": [
    "for sch in df.names:\n",
    "    try:\n",
    "        copyfile(sch + '_China.jpeg', '../../selected_data/China/' + sch + '_China.jpeg')\n",
    "    except:\n",
    "        print(sch)"
   ]
  },
  {
   "cell_type": "markdown",
   "metadata": {},
   "source": [
    "# 重新爬取CSRanking 上USA前162名的学校的校徽"
   ]
  },
  {
   "cell_type": "code",
   "execution_count": 15,
   "metadata": {},
   "outputs": [],
   "source": [
    "import requests\n",
    "from selenium import webdriver\n",
    "from selenium.webdriver.common.keys import Keys\n",
    "from bs4 import BeautifulSoup\n",
    "import re\n",
    "import pandas as pd\n",
    "import html5lib\n",
    "from urllib.request import urlretrieve"
   ]
  },
  {
   "cell_type": "code",
   "execution_count": 14,
   "metadata": {},
   "outputs": [],
   "source": [
    "keywords = '{school} seal'"
   ]
  },
  {
   "cell_type": "code",
   "execution_count": 18,
   "metadata": {},
   "outputs": [],
   "source": [
    "def getUrl(browser, universityName, keywords):\n",
    "    browser.get('https://www.google.com/imghp')\n",
    "    google_input = browser.find_element_by_class_name('gLFyf')\n",
    "    google_input.send_keys(keywords.format(school = universityName))\n",
    "    google_input.send_keys(Keys.ENTER)\n",
    "    first_result = browser.find_element_by_css_selector('#rg img')\n",
    "    src = first_result.get_attribute('src')\n",
    "    return src\n",
    "\n",
    "def downloadImg(url, directory, name, datatype):\n",
    "    from urllib.request import urlretrieve\n",
    "    urlretrieve(url, directory + name + '.' + datatype)\n",
    "\n",
    "def main(keywords, country, universityList):\n",
    "    count = 0\n",
    "    browser = webdriver.Chrome()\n",
    "    for school in universityList:\n",
    "        url = ''\n",
    "        if count == 15:\n",
    "            count = 0\n",
    "            browser.close()\n",
    "            browser = webdriver.Chrome()\n",
    "        count += 1\n",
    "        #try:\n",
    "        url = getUrl(browser, school, keywords)\n",
    "        datatype = re.findall(r'image/.+?;', url)[0][6:-1]\n",
    "        downloadImg(url, 'selected_data/{}/'.format(country), school, datatype)\n",
    "        #except:\n",
    "        print('\\nUniversity :' + school + '    failed\\n')\n",
    "        continue\n",
    "        #print('University : ' + school + '     Success')"
   ]
  },
  {
   "cell_type": "code",
   "execution_count": null,
   "metadata": {},
   "outputs": [],
   "source": [
    "main(keywords, 'USA', [x.strip() for x in df.Institution])"
   ]
  },
  {
   "cell_type": "code",
   "execution_count": 22,
   "metadata": {},
   "outputs": [],
   "source": [
    "os.chdir('../../')"
   ]
  },
  {
   "cell_type": "code",
   "execution_count": 28,
   "metadata": {},
   "outputs": [
    {
     "data": {
      "text/plain": [
       "'/home/gs/git-repos/University-Logo-Deep-Learning-Community-Detection/selected_data/USA'"
      ]
     },
     "execution_count": 28,
     "metadata": {},
     "output_type": "execute_result"
    }
   ],
   "source": [
    "os.getcwd()"
   ]
  },
  {
   "cell_type": "markdown",
   "metadata": {},
   "source": [
    "# 处理得到的数据"
   ]
  },
  {
   "cell_type": "code",
   "execution_count": 26,
   "metadata": {},
   "outputs": [],
   "source": [
    "from PIL import Image, ImageChops\n",
    "\n",
    "def trim(im):\n",
    "    bg = Image.new(im.mode, im.size, im.getpixel((0,0)))\n",
    "    diff = ImageChops.difference(im, bg)\n",
    "    bbox = diff.getbbox()\n",
    "    if bbox:\n",
    "        return im.crop(bbox)"
   ]
  },
  {
   "cell_type": "code",
   "execution_count": 27,
   "metadata": {},
   "outputs": [],
   "source": [
    "os.chdir('./selected_data/USA')"
   ]
  },
  {
   "cell_type": "code",
   "execution_count": 41,
   "metadata": {},
   "outputs": [],
   "source": [
    "for sch in os.listdir():\n",
    "    im = Image.open(sch)\n",
    "    result = trim(im)\n",
    "    #if sch.endswith('png') or im.format == 'JPEG' or im.format == 'JPG':\n",
    "    result = result.convert('RGB') # 转换格式为RGB\n",
    "    result = result.resize((100, 100)) # resize\n",
    "    os.remove(sch) # 删除原有图片\n",
    "    result.save(re.findall('.+\\.', sch)[0][:-1] + '_USA.jpeg')\n",
    "    "
   ]
  }
 ],
 "metadata": {
  "kernelspec": {
   "display_name": "Data Analysis",
   "language": "python",
   "name": "da"
  },
  "language_info": {
   "codemirror_mode": {
    "name": "ipython",
    "version": 3
   },
   "file_extension": ".py",
   "mimetype": "text/x-python",
   "name": "python",
   "nbconvert_exporter": "python",
   "pygments_lexer": "ipython3",
   "version": "3.6.8"
  }
 },
 "nbformat": 4,
 "nbformat_minor": 2
}
