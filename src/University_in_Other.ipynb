{
 "cells": [
  {
   "cell_type": "code",
   "execution_count": 1,
   "metadata": {},
   "outputs": [],
   "source": [
    "import requests\n",
    "from selenium import webdriver\n",
    "from selenium.webdriver.common.keys import Keys\n",
    "from bs4 import BeautifulSoup\n",
    "import re\n",
    "import pandas as pd\n",
    "import html5lib\n",
    "from urllib.request import urlretrieve"
   ]
  },
  {
   "cell_type": "markdown",
   "metadata": {},
   "source": [
    "# USA "
   ]
  },
  {
   "cell_type": "code",
   "execution_count": 2,
   "metadata": {},
   "outputs": [],
   "source": [
    "res = requests.get('https://www.4icu.org/us/us-universities.htm')\n",
    "bsObj = BeautifulSoup(res.content)"
   ]
  },
  {
   "cell_type": "code",
   "execution_count": 3,
   "metadata": {},
   "outputs": [],
   "source": [
    "ulList = bsObj.select('td a')"
   ]
  },
  {
   "cell_type": "code",
   "execution_count": 4,
   "metadata": {},
   "outputs": [],
   "source": [
    "universityList = [x.get_text() for x in ulList]"
   ]
  },
  {
   "cell_type": "code",
   "execution_count": 5,
   "metadata": {},
   "outputs": [
    {
     "data": {
      "text/plain": [
       "1818"
      ]
     },
     "execution_count": 5,
     "metadata": {},
     "output_type": "execute_result"
    }
   ],
   "source": [
    "len(universityList)"
   ]
  },
  {
   "cell_type": "code",
   "execution_count": 6,
   "metadata": {},
   "outputs": [
    {
     "data": {
      "text/plain": [
       "'Bloomsburg University of Pennsylvania'"
      ]
     },
     "execution_count": 6,
     "metadata": {},
     "output_type": "execute_result"
    }
   ],
   "source": [
    "universityList[150]"
   ]
  },
  {
   "cell_type": "code",
   "execution_count": 2,
   "metadata": {},
   "outputs": [],
   "source": [
    "keywords = '{school} seal'"
   ]
  },
  {
   "cell_type": "code",
   "execution_count": 5,
   "metadata": {},
   "outputs": [],
   "source": [
    "def getUrl(universityName, keywords):\n",
    "    browser.get('https://www.google.com/imghp')\n",
    "    google_input = browser.find_element_by_class_name('gLFyf')\n",
    "    google_input.send_keys(keywords.format(school = universityName))\n",
    "    google_input.send_keys(Keys.ENTER)\n",
    "    first_result = browser.find_element_by_css_selector('#rg img')\n",
    "    src = first_result.get_attribute('src')\n",
    "    return src\n",
    "\n",
    "def downloadImg(url, directory, name, datatype):\n",
    "    from urllib.request import urlretrieve\n",
    "    urlretrieve(url, directory + name + '.' + datatype)"
   ]
  },
  {
   "cell_type": "code",
   "execution_count": null,
   "metadata": {},
   "outputs": [],
   "source": [
    "count = 0\n",
    "browser = webdriver.Chrome()\n",
    "for school in universityList:\n",
    "    url = ''\n",
    "    if count == 15:\n",
    "        count = 0\n",
    "        browser.close()\n",
    "        browser = webdriver.Chrome()\n",
    "    count += 1\n",
    "    try:\n",
    "        url = getUrl(school)\n",
    "        datatype = re.findall(r'image/.+?;', url)[0][6:-1]\n",
    "        downloadImg(url, './USA/', school, datatype)\n",
    "    except:\n",
    "        print('\\nUniversity :' + school + '    failed\\n')\n",
    "        continue\n",
    "    print('University : ' + school + '     Success')"
   ]
  },
  {
   "cell_type": "code",
   "execution_count": 11,
   "metadata": {},
   "outputs": [],
   "source": [
    "res = requests.get('https://www.studying-in-uk.org/list-of-universities-in-the-united-kingdom/')\n",
    "bsObj = BeautifulSoup(res.content)"
   ]
  },
  {
   "cell_type": "code",
   "execution_count": 12,
   "metadata": {},
   "outputs": [],
   "source": [
    "uList = bsObj.select('.td-post-content ul li')"
   ]
  },
  {
   "cell_type": "code",
   "execution_count": 13,
   "metadata": {},
   "outputs": [
    {
     "data": {
      "text/plain": [
       "849"
      ]
     },
     "execution_count": 13,
     "metadata": {},
     "output_type": "execute_result"
    }
   ],
   "source": [
    "len(uList)"
   ]
  },
  {
   "cell_type": "code",
   "execution_count": 14,
   "metadata": {},
   "outputs": [],
   "source": [
    "uList = [x.get_text() for x in uList]"
   ]
  },
  {
   "cell_type": "markdown",
   "metadata": {},
   "source": [
    "# Canada"
   ]
  },
  {
   "cell_type": "markdown",
   "metadata": {},
   "source": [
    "df = pd.read_html(requests.get('https://en.wikipedia.org/wiki/List_of_universities_in_Canada').content)"
   ]
  },
  {
   "cell_type": "code",
   "execution_count": 29,
   "metadata": {},
   "outputs": [],
   "source": [
    "universityList = list(df[0]['Name']) + list(df[1]['Name'])"
   ]
  },
  {
   "cell_type": "code",
   "execution_count": 30,
   "metadata": {},
   "outputs": [
    {
     "data": {
      "text/plain": [
       "97"
      ]
     },
     "execution_count": 30,
     "metadata": {},
     "output_type": "execute_result"
    }
   ],
   "source": [
    "len(universityList)"
   ]
  },
  {
   "cell_type": "code",
   "execution_count": null,
   "metadata": {},
   "outputs": [],
   "source": [
    "def main(universityList):\n",
    "    for item in universityList:\n",
    "        "
   ]
  },
  {
   "cell_type": "markdown",
   "metadata": {},
   "source": [
    "# Japan"
   ]
  },
  {
   "cell_type": "code",
   "execution_count": 42,
   "metadata": {},
   "outputs": [],
   "source": [
    "df = pd.read_html(requests.get('https://www.4icu.org/jp/japanese-universities.htm').content)"
   ]
  },
  {
   "cell_type": "code",
   "execution_count": 58,
   "metadata": {},
   "outputs": [],
   "source": [
    "universityList = list(df[0]['University'])"
   ]
  },
  {
   "cell_type": "code",
   "execution_count": null,
   "metadata": {},
   "outputs": [],
   "source": [
    "count = 0\n",
    "browser = webdriver.Chrome()\n",
    "for school in schoolList:\n",
    "    url = ''\n",
    "    if count == 15:\n",
    "        count = 0\n",
    "        browser.close()\n",
    "        browser = webdriver.Chrome()\n",
    "    count += 1\n",
    "    try:\n",
    "        url = getUrl(school)\n",
    "        datatype = re.findall(r'image/.+?;', url)[0][6:-1]\n",
    "        downloadImg(url, './Indian/', school, datatype)\n",
    "    except:\n",
    "        print('\\nUniversity :' + school + '    failed\\n')\n",
    "        continue\n",
    "    print('University : ' + school + '     Success')"
   ]
  },
  {
   "cell_type": "markdown",
   "metadata": {},
   "source": [
    "# Indian "
   ]
  },
  {
   "cell_type": "code",
   "execution_count": 61,
   "metadata": {},
   "outputs": [],
   "source": [
    "bsObj = BeautifulSoup(requests.get('https://en.wikipedia.org/wiki/List_of_state_universities_in_India').content)"
   ]
  },
  {
   "cell_type": "code",
   "execution_count": 70,
   "metadata": {},
   "outputs": [],
   "source": [
    "schoolList = [x.get_text().replace('\\n', '') for x in bsObj.select(\"th[scope='row']\")][:-18]"
   ]
  },
  {
   "cell_type": "code",
   "execution_count": 73,
   "metadata": {},
   "outputs": [],
   "source": [
    "import os"
   ]
  },
  {
   "cell_type": "code",
   "execution_count": 78,
   "metadata": {},
   "outputs": [],
   "source": [
    "os.chdir('./ChinaSchool/')\n",
    "fileList = os.listdir('./')"
   ]
  },
  {
   "cell_type": "code",
   "execution_count": 79,
   "metadata": {},
   "outputs": [],
   "source": [
    "import imghdr"
   ]
  },
  {
   "cell_type": "code",
   "execution_count": 80,
   "metadata": {},
   "outputs": [
    {
     "data": {
      "text/plain": [
       "'png'"
      ]
     },
     "execution_count": 80,
     "metadata": {},
     "output_type": "execute_result"
    }
   ],
   "source": [
    "imghdr.what(fileList[0])"
   ]
  },
  {
   "cell_type": "code",
   "execution_count": 82,
   "metadata": {},
   "outputs": [
    {
     "data": {
      "text/plain": [
       "'合肥信息技术职业学院.'"
      ]
     },
     "execution_count": 82,
     "metadata": {},
     "output_type": "execute_result"
    }
   ],
   "source": []
  },
  {
   "cell_type": "code",
   "execution_count": null,
   "metadata": {},
   "outputs": [],
   "source": [
    "os.rename(fileList[0])"
   ]
  },
  {
   "cell_type": "code",
   "execution_count": 84,
   "metadata": {},
   "outputs": [],
   "source": [
    "for item in fileList:\n",
    "    os.rename(item, item[:-3] + imghdr.what(item))"
   ]
  },
  {
   "cell_type": "code",
   "execution_count": 34,
   "metadata": {},
   "outputs": [],
   "source": [
    "def getUrl(browser, universityName, keywords):\n",
    "    browser.get('https://www.google.com/imghp')\n",
    "    google_input = browser.find_element_by_class_name('gLFyf')\n",
    "    google_input.send_keys(keywords.format(school = universityName))\n",
    "    google_input.send_keys(Keys.ENTER)\n",
    "    first_result = browser.find_element_by_css_selector('#rg img')\n",
    "    src = first_result.get_attribute('src')\n",
    "    return src\n",
    "\n",
    "def downloadImg(url, directory, name, datatype):\n",
    "    from urllib.request import urlretrieve\n",
    "    urlretrieve(url, directory + name + '.' + datatype)\n",
    "\n",
    "def main(keywords, country, universityList):\n",
    "    count = 0\n",
    "    browser = webdriver.Chrome()\n",
    "    for school in universityList:\n",
    "        url = ''\n",
    "        if count == 15:\n",
    "            count = 0\n",
    "            browser.close()\n",
    "            browser = webdriver.Chrome()\n",
    "        count += 1\n",
    "        #try:\n",
    "        url = getUrl(browser, school, keywords)\n",
    "        datatype = re.findall(r'image/.+?;', url)[0][6:-1]\n",
    "        downloadImg(url, 'images/{}/'.format(country), school, datatype)\n",
    "        #except:\n",
    "        print('\\nUniversity :' + school + '    failed\\n')\n",
    "        continue\n",
    "        #print('University : ' + school + '     Success')"
   ]
  },
  {
   "cell_type": "markdown",
   "metadata": {},
   "source": [
    "# New Zealand"
   ]
  },
  {
   "cell_type": "code",
   "execution_count": 26,
   "metadata": {},
   "outputs": [],
   "source": [
    "df = pd.read_html(requests.get('https://www.university-list.net/New-Zealand/universities-2000.htm').content)"
   ]
  },
  {
   "cell_type": "code",
   "execution_count": 35,
   "metadata": {},
   "outputs": [],
   "source": [
    "universityList = list(df[0]['University name'])\n",
    "keywords = '{school} logo'"
   ]
  },
  {
   "cell_type": "code",
   "execution_count": null,
   "metadata": {},
   "outputs": [],
   "source": [
    "main(keywords, 'test', universityList)"
   ]
  },
  {
   "cell_type": "markdown",
   "metadata": {},
   "source": [
    "# France"
   ]
  },
  {
   "cell_type": "code",
   "execution_count": 37,
   "metadata": {},
   "outputs": [],
   "source": [
    "bsObj = BeautifulSoup(requests.get('https://www.hotcoursesabroad.com/study/france/international/schools-colleges-university/63/list.html?sortby=ALL&regionId=2&pageNo=1').content)"
   ]
  },
  {
   "cell_type": "code",
   "execution_count": 84,
   "metadata": {},
   "outputs": [],
   "source": [
    "browser = webdriver.Chrome()"
   ]
  },
  {
   "cell_type": "code",
   "execution_count": 63,
   "metadata": {},
   "outputs": [],
   "source": [
    "browser.get('https://www.hotcoursesabroad.com/study/france/international/schools-colleges-university/63/list.html?sortby=ALL&regionId=2&pageNo=1')"
   ]
  },
  {
   "cell_type": "code",
   "execution_count": 70,
   "metadata": {},
   "outputs": [],
   "source": [
    "a = browser.find_elements_by_css_selector('div.pr_lgo img[class]')\n",
    "b = browser.find_elements_by_css_selector('div.sr_nam h2')"
   ]
  },
  {
   "cell_type": "code",
   "execution_count": 69,
   "metadata": {},
   "outputs": [
    {
     "data": {
      "text/plain": [
       "['https://images5.content-hci.com/commimg/myhotcourses/institution/myhc_292461.jpg',\n",
       " 'https://images1.content-hci.com/commimg/myhotcourses/institution/myhc_283181.jpg',\n",
       " 'https://images2.content-hci.com/commimg/myhotcourses/institution/myhc_286549.jpg',\n",
       " 'https://images3.content-hci.com/commimg/myhotcourses/institution/myhc_248774.jpg',\n",
       " 'https://images4.content-hci.com/commimg/myhotcourses/institution/myhc_191368.jpg',\n",
       " 'https://images5.content-hci.com/commimg/myhotcourses/institution/myhc_191373.jpg',\n",
       " 'https://images6.content-hci.com/commimg/myhotcourses/institution/myhc_191370.jpg',\n",
       " 'https://images7.content-hci.com/commimg/myhotcourses/institution/myhc_236791.jpg',\n",
       " 'https://images8.content-hci.com/commimg/myhotcourses/institution/myhc_227453.jpg',\n",
       " 'https://images1.content-hci.com/commimg/myhotcourses/institution/myhc_198679.jpg',\n",
       " 'https://images2.content-hci.com/commimg/myhotcourses/institution/myhc_245077.jpg',\n",
       " 'https://images3.content-hci.com/commimg/myhotcourses/institution/myhc_202852.jpg']"
      ]
     },
     "execution_count": 69,
     "metadata": {},
     "output_type": "execute_result"
    }
   ],
   "source": [
    "[x.get_attribute('src') for x in a]"
   ]
  },
  {
   "cell_type": "code",
   "execution_count": 87,
   "metadata": {},
   "outputs": [
    {
     "name": "stdout",
     "output_type": "stream",
     "text": [
      "['https://images6.content-hci.com/commimg/myhotcourses/institution/myhc_243848.jpg', 'https://images1.content-hci.com/commimg/myhotcourses/institution/myhc_283253.jpg', 'https://images2.content-hci.com/commimg/myhotcourses/institution/myhc_245074.jpg']\n",
      "['Georgia Institute of Technology France', 'Sorbonne University', 'International Fashion Academy', 'Toulouse 1 Capitole University', 'International University of Monaco', 'Kedge Business School', 'Grenoble Ecole de Management', 'Parsons Paris - The New School', 'Joseph Fourier University', 'ESMOD', 'PSL Universite Paris', 'Sciences Po Paris']\n",
      "['https://images4.content-hci.com/commimg/myhotcourses/institution/myhc_248781.jpg', 'https://images1.content-hci.com/commimg/myhotcourses/institution/myhc_245073.jpg', 'https://images2.content-hci.com/commimg/myhotcourses/institution/myhc_243852.jpg']\n",
      "['HEC Paris', 'IFM Paris', 'University of London Institute in Paris', 'Universite de Lorraine', 'Paris-Sud University', 'Le Cordon Bleu, Paris', 'ESCP Europe', 'ESC Clermont Graduate School of Management', 'NEOMA Business School', 'Claude Bernard University Lyon 1', 'Ecole des Ponts ParisTech', 'IESEG School of Management']\n",
      "['https://images5.content-hci.com/commimg/myhotcourses/institution/myhc_248779.jpg', 'https://images1.content-hci.com/commimg/myhotcourses/institution/myhc_236781.jpg', 'https://images2.content-hci.com/commimg/myhotcourses/institution/myhc_238569.jpg']\n",
      "['ESSEC Business School', 'IPAG Business School', 'Burgundy School of Business', 'Schiller International University, France', 'National Institute of Applied Sciences in Lyon', 'CentraleSupélec', 'EDHEC Business School', 'Ecole Normale Superieure', 'INSEAD', 'Ecole Normale Superieure de Lyon', 'IAE Aix-Marseille Graduate School of Management', 'Novancia Business School']\n",
      "['https://images5.content-hci.com/commimg/myhotcourses/institution/myhc_241480.jpg']\n",
      "['Les Ponts Business School']\n",
      "[]\n",
      "[]\n"
     ]
    }
   ],
   "source": [
    "for i in range(2, 7):\n",
    "    url = 'https://www.hotcoursesabroad.com/study/france/international/schools-colleges-university/63/list.html?sortby=ALL&regionId=2&pageNo=' + str(i)\n",
    "    browser.get(url)\n",
    "    a = browser.find_elements_by_css_selector('div.pr_lgo img[class]')\n",
    "    b = browser.find_elements_by_css_selector('div.sr_nam h2')\n",
    "    schList = [x.get_attribute('src') for x in a]\n",
    "    print(schList)\n",
    "    print([x.text for x in b])\n",
    "    for i, item in enumerate(schList):\n",
    "        urlretrieve(item, 'images/France/' + b[i].text + '.jpg')"
   ]
  },
  {
   "cell_type": "code",
   "execution_count": null,
   "metadata": {},
   "outputs": [],
   "source": []
  },
  {
   "cell_type": "code",
   "execution_count": 77,
   "metadata": {},
   "outputs": [
    {
     "data": {
      "text/plain": [
       "<selenium.webdriver.remote.webelement.WebElement (session=\"20591868e73a3327b6178ced8652f10a\", element=\"86a26cac-0442-44f1-b299-057cc30c0250\")>"
      ]
     },
     "execution_count": 77,
     "metadata": {},
     "output_type": "execute_result"
    }
   ],
   "source": [
    "a[0]"
   ]
  },
  {
   "cell_type": "code",
   "execution_count": null,
   "metadata": {},
   "outputs": [],
   "source": [
    "for i in range(2, 7):\n",
    "    url = 'https://www.hotcoursesabroad.com/study/france/international/schools-colleges-university/63/list.html?sortby=ALL&regionId=2&pageNo=' + str(i)\n",
    "    #browser.get(url)\n",
    "    bsObj = requests.get(url)\n",
    "    bsObj\n",
    "    a = browser.find_elements_by_css_selector('div.pr_lgo img[class]')\n",
    "    b = browser.find_elements_by_css_selector('div.sr_nam h2')\n",
    "    schList = [x.get_attribute('src') for x in a]\n",
    "    print(schList)\n",
    "    print([x.text for x in b])\n",
    "    for i, item in enumerate(schList):\n",
    "        urlretrieve(item, 'images/France/' + b[i].text + '.jpg')"
   ]
  },
  {
   "cell_type": "code",
   "execution_count": 2,
   "metadata": {},
   "outputs": [],
   "source": [
    "url = 'https://www.hotcoursesabroad.com/study/france/international/schools-colleges-university/63/list.html?sortby=ALL&regionId=2&pageNo=1'"
   ]
  },
  {
   "cell_type": "code",
   "execution_count": 3,
   "metadata": {},
   "outputs": [],
   "source": [
    "bsObj = BeautifulSoup(requests.get(url).content)"
   ]
  },
  {
   "cell_type": "code",
   "execution_count": 5,
   "metadata": {},
   "outputs": [],
   "source": [
    "a = bsObj.select('img[data-src]')"
   ]
  },
  {
   "cell_type": "code",
   "execution_count": 12,
   "metadata": {},
   "outputs": [
    {
     "data": {
      "text/plain": [
       "'https://images6.content-hci.com/commimg/myhotcourses/institution/myhc_292461.jpg'"
      ]
     },
     "execution_count": 12,
     "metadata": {},
     "output_type": "execute_result"
    }
   ],
   "source": [
    "a[3]['data-src']"
   ]
  },
  {
   "cell_type": "code",
   "execution_count": 30,
   "metadata": {},
   "outputs": [],
   "source": [
    "temp = []\n",
    "for i in range(1, 6):\n",
    "    url = 'https://www.hotcoursesabroad.com/study/netherlands/international/schools-colleges-university/131/list.html?sortby=ALL&regionId=2&pageNo=' + str(i)\n",
    "    bsObj = BeautifulSoup(requests.get(url).content)\n",
    "    for x in [x['data-src'] for x in bsObj.select(\"img[data-src]\")][3:]:\n",
    "        temp.append(x)"
   ]
  },
  {
   "cell_type": "code",
   "execution_count": null,
   "metadata": {},
   "outputs": [],
   "source": [
    "temp"
   ]
  },
  {
   "cell_type": "code",
   "execution_count": 22,
   "metadata": {},
   "outputs": [
    {
     "data": {
      "text/plain": [
       "49"
      ]
     },
     "execution_count": 22,
     "metadata": {},
     "output_type": "execute_result"
    }
   ],
   "source": [
    "len(temp)"
   ]
  },
  {
   "cell_type": "code",
   "execution_count": 32,
   "metadata": {},
   "outputs": [],
   "source": [
    "for i, item in enumerate(temp):\n",
    "    urlretrieve(item, 'images/Netherlands/' + names[i] + '.jpg')"
   ]
  },
  {
   "cell_type": "code",
   "execution_count": 33,
   "metadata": {},
   "outputs": [],
   "source": [
    "names = []\n",
    "for i in range(1, 5):\n",
    "    url = 'https://www.hotcoursesabroad.com/study/hongkong/international/schools-colleges-university/84/list.html?sortby=ALL&regionId=4&pageNo=' + str(i)\n",
    "    bsObj = BeautifulSoup(requests.get(url).content)\n",
    "    for x in [x['alt'] for x in bsObj.select(\"img[data-src]\")][3:]:\n",
    "        names.append(x)"
   ]
  },
  {
   "cell_type": "code",
   "execution_count": 29,
   "metadata": {},
   "outputs": [
    {
     "data": {
      "text/plain": [
       "['Leiden University',\n",
       " 'University of Groningen',\n",
       " 'Breda University of Applied Sciences',\n",
       " 'University of Applied Sciences Has Den Bosch',\n",
       " 'University of Amsterdam',\n",
       " 'Utrecht University',\n",
       " 'Maastricht University',\n",
       " 'Vrije Universiteit Amsterdam',\n",
       " 'Delft University of Technology',\n",
       " 'Erasmus University Rotterdam',\n",
       " 'Radboud University',\n",
       " 'University of Twente',\n",
       " 'Wageningen University and Research Centre',\n",
       " 'Royal Academy of Art, The Hague',\n",
       " 'Saxion University of Applied Sciences',\n",
       " 'Tilburg University',\n",
       " 'Hanze University of Applied Sciences',\n",
       " 'Fontys University of Applied Sciences',\n",
       " 'Rotterdam University, University of Applied Sciences',\n",
       " 'ArtEZ Institute of The Arts',\n",
       " 'Van Hall Larenstein, University of Applied Sciences',\n",
       " 'Gerrit Rietveld Academie',\n",
       " 'Amsterdam University of the Arts',\n",
       " 'Amsterdam University of Applied Sciences',\n",
       " 'Hogeschool Van Amsterdam',\n",
       " 'Maastricht School of Management',\n",
       " 'Christelijke Hogeschool Ede',\n",
       " 'UNESCO-IHE Institute for Water Education',\n",
       " 'Avans Hogeschool, University of Applied Sciences',\n",
       " 'Hague University of Applied Sciences',\n",
       " 'Design Academy Eindhoven',\n",
       " 'Aeres University of Applied Sciences',\n",
       " 'Utrecht School of The Arts (Hku)',\n",
       " 'Inholland University of Applied Sciences',\n",
       " 'Hu University of Applied Sciences Utrecht',\n",
       " 'Codarts, University of the Arts',\n",
       " 'Zuyd University of Applied Sciences',\n",
       " 'Wittenborg University of Applied Sciences',\n",
       " 'Amsterdam Fashion Academy',\n",
       " 'Webster University, Netherlands',\n",
       " 'Hz University of Applied Sciences',\n",
       " 'Hotelschool The Hague',\n",
       " 'Leiden University College The Hague',\n",
       " 'HAN University of Applied Sciences',\n",
       " 'Stenden University of Applied Sciences',\n",
       " 'TiasNimbas Business School',\n",
       " 'Hogeschool Wittenborg',\n",
       " 'Netherlands Maritime University',\n",
       " 'Tio University of Applied Sciences',\n",
       " 'Nyenrode Business Universiteit',\n",
       " 'Technische Universiteit Eindhoven University of Technology',\n",
       " 'ONCAMPUS Amsterdam',\n",
       " 'Amsterdam University College']"
      ]
     },
     "execution_count": 29,
     "metadata": {},
     "output_type": "execute_result"
    }
   ],
   "source": [
    "main()"
   ]
  },
  {
   "cell_type": "code",
   "execution_count": 43,
   "metadata": {},
   "outputs": [],
   "source": [
    "keywords = '{school} 校徽'"
   ]
  },
  {
   "cell_type": "code",
   "execution_count": 44,
   "metadata": {},
   "outputs": [
    {
     "name": "stdout",
     "output_type": "stream",
     "text": [
      "\n",
      "University :香港大學    failed\n",
      "\n",
      "\n",
      "University :香港中文大學    failed\n",
      "\n",
      "\n",
      "University :香港科技大學    failed\n",
      "\n",
      "\n",
      "University :香港理工大學    failed\n",
      "\n",
      "\n",
      "University :香港浸會大學    failed\n",
      "\n",
      "\n",
      "University :香港城市大學    failed\n",
      "\n",
      "\n",
      "University :嶺南大學    failed\n",
      "\n",
      "\n",
      "University :香港教育大學    failed\n",
      "\n",
      "\n",
      "University :香港公開大學    failed\n",
      "\n",
      "\n",
      "University :香港演藝學院    failed\n",
      "\n",
      "\n",
      "University :香港樹仁大學    failed\n",
      "\n",
      "\n",
      "University :香港恒生大學    failed\n",
      "\n",
      "\n",
      "University :珠海學院    failed\n",
      "\n",
      "\n",
      "University :明德學院    failed\n",
      "\n",
      "\n",
      "University :東華學院    failed\n",
      "\n",
      "\n",
      "University :明愛專上學院    failed\n",
      "\n",
      "\n",
      "University :香港能仁專上學院    failed\n",
      "\n",
      "\n",
      "University :港專學院    failed\n",
      "\n",
      "\n",
      "University :宏恩基督教學院    failed\n",
      "\n",
      "\n",
      "University :耀中幼教學院    failed\n",
      "\n",
      "\n",
      "University :香港高等教育科技學院    failed\n",
      "\n",
      "\n",
      "University :香港專業教育學院    failed\n",
      "\n",
      "\n",
      "University :香港知專設計學院    failed\n",
      "\n",
      "\n",
      "University :明愛白英奇專業學校    failed\n",
      "\n",
      "\n",
      "University :明愛社區書院    failed\n",
      "\n",
      "\n",
      "University :香港專業進修學校    failed\n",
      "\n",
      "\n",
      "University :青年會專業書院    failed\n",
      "\n",
      "\n",
      "University :香港大學專業進修學院保良局何鴻燊社區書院    failed\n",
      "\n",
      "\n",
      "University :香港科技專上書院    failed\n",
      "\n",
      "\n",
      "University :才晉高等教育學院    failed\n",
      "\n",
      "\n",
      "University :高峰進修學院    failed\n",
      "\n",
      "\n",
      "University :香港藝術學院    failed\n",
      "\n",
      "\n",
      "University :薩凡納藝術設計大學（香港）    failed\n",
      "\n",
      "\n",
      "University :芝加哥大學布思商學院（香港）    failed\n",
      "\n"
     ]
    }
   ],
   "source": [
    "main(keywords, 'Hong Kong', df[0]['教育機構'])"
   ]
  },
  {
   "cell_type": "code",
   "execution_count": 40,
   "metadata": {},
   "outputs": [],
   "source": [
    "df = pd.read_html(requests.get('https://zh.wikipedia.org/wiki/%E9%A6%99%E6%B8%AF%E5%A4%A7%E5%B0%88%E9%99%A2%E6%A0%A1%E5%88%97%E8%A1%A8').content)"
   ]
  },
  {
   "cell_type": "code",
   "execution_count": 42,
   "metadata": {},
   "outputs": [
    {
     "data": {
      "text/plain": [
       "0                     香港大學\n",
       "1                   香港中文大學\n",
       "2                   香港科技大學\n",
       "3                   香港理工大學\n",
       "4                   香港浸會大學\n",
       "5                   香港城市大學\n",
       "6                     嶺南大學\n",
       "7                   香港教育大學\n",
       "8                   香港公開大學\n",
       "9                   香港演藝學院\n",
       "10                  香港樹仁大學\n",
       "11                  香港恒生大學\n",
       "12                    珠海學院\n",
       "13                    明德學院\n",
       "14                    東華學院\n",
       "15                  明愛專上學院\n",
       "16                香港能仁專上學院\n",
       "17                    港專學院\n",
       "18                 宏恩基督教學院\n",
       "19                  耀中幼教學院\n",
       "20              香港高等教育科技學院\n",
       "21                香港專業教育學院\n",
       "22                香港知專設計學院\n",
       "23               明愛白英奇專業學校\n",
       "24                  明愛社區書院\n",
       "25                香港專業進修學校\n",
       "26                 青年會專業書院\n",
       "27    香港大學專業進修學院保良局何鴻燊社區書院\n",
       "28                香港科技專上書院\n",
       "29                才晉高等教育學院\n",
       "30                  高峰進修學院\n",
       "31                  香港藝術學院\n",
       "32           薩凡納藝術設計大學（香港）\n",
       "33          芝加哥大學布思商學院（香港）\n",
       "Name: 教育機構, dtype: object"
      ]
     },
     "execution_count": 42,
     "metadata": {},
     "output_type": "execute_result"
    }
   ],
   "source": [
    "df[0]['教育機構']"
   ]
  },
  {
   "cell_type": "code",
   "execution_count": null,
   "metadata": {},
   "outputs": [],
   "source": []
  }
 ],
 "metadata": {
  "kernelspec": {
   "display_name": "Data Analysis",
   "language": "python",
   "name": "da"
  },
  "language_info": {
   "codemirror_mode": {
    "name": "ipython",
    "version": 3
   },
   "file_extension": ".py",
   "mimetype": "text/x-python",
   "name": "python",
   "nbconvert_exporter": "python",
   "pygments_lexer": "ipython3",
   "version": "3.6.8"
  }
 },
 "nbformat": 4,
 "nbformat_minor": 2
}
