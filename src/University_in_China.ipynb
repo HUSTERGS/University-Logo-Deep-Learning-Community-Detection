{
 "cells": [
  {
   "cell_type": "code",
   "execution_count": 1,
   "metadata": {},
   "outputs": [],
   "source": [
    "from selenium import webdriver\n",
    "from selenium.webdriver.common.by import By\n",
    "from selenium.webdriver.common.keys import Keys\n",
    "from selenium.webdriver.support import expected_conditions as EC\n",
    "from selenium.webdriver.support.wait import WebDriverWait\n",
    "from bs4 import BeautifulSoup\n",
    "from time import sleep\n",
    "import pandas as pd\n",
    "import re\n",
    "import requests"
   ]
  },
  {
   "cell_type": "code",
   "execution_count": 113,
   "metadata": {},
   "outputs": [],
   "source": [
    "browser = webdriver.Chrome()"
   ]
  },
  {
   "cell_type": "code",
   "execution_count": 7,
   "metadata": {},
   "outputs": [],
   "source": [
    "keywords = '{school} seal'"
   ]
  },
  {
   "cell_type": "markdown",
   "metadata": {},
   "source": [
    "# DownLoad image from url"
   ]
  },
  {
   "cell_type": "code",
   "execution_count": 8,
   "metadata": {},
   "outputs": [],
   "source": [
    "def downloadImg(url, directory, name, datatype):\n",
    "    from urllib.request import urlretrieve\n",
    "    urlretrieve(url, directory + name + '.' + datatype)"
   ]
  },
  {
   "cell_type": "markdown",
   "metadata": {},
   "source": [
    "# Get the University Names"
   ]
  },
  {
   "cell_type": "code",
   "execution_count": 118,
   "metadata": {},
   "outputs": [],
   "source": [
    "df = pd.read_excel('./中国学校.xls')\n",
    "schoolList = [x for x in df['学校名称'] if pd.notna(x) and x != '学院']"
   ]
  },
  {
   "cell_type": "code",
   "execution_count": 119,
   "metadata": {},
   "outputs": [
    {
     "data": {
      "text/plain": [
       "2631"
      ]
     },
     "execution_count": 119,
     "metadata": {},
     "output_type": "execute_result"
    }
   ],
   "source": [
    "len(schoolList)"
   ]
  },
  {
   "cell_type": "code",
   "execution_count": 11,
   "metadata": {},
   "outputs": [],
   "source": [
    "def getUrl(universityName):\n",
    "    browser.get('https://www.google.com/imghp')\n",
    "    google_input = browser.find_element_by_class_name('gLFyf')\n",
    "    google_input.send_keys(keywords.format(school = universityName))\n",
    "    google_input.send_keys(Keys.ENTER)\n",
    "    first_result = browser.find_element_by_css_selector('#rg img')\n",
    "    src = first_result.get_attribute('src')\n",
    "    return src"
   ]
  },
  {
   "cell_type": "code",
   "execution_count": null,
   "metadata": {},
   "outputs": [],
   "source": [
    "count = 0\n",
    "for school in schoolList:\n",
    "    url = ''\n",
    "    try:\n",
    "        if count == 10:\n",
    "            count = 0\n",
    "            browser.close()\n",
    "            browser = webdriver.Chrome()\n",
    "        url = getUrl(school)\n",
    "        datatype = re.findall(r'image/.+?;', url)[0][6:-1]\n",
    "        downloadImg(url, './ChinaSchool/', school, datatype)\n",
    "    except:\n",
    "        print('\\nUniversity :' + school + 'failed\\n')\n",
    "        continue\n",
    "    count += 1\n",
    "    print('University : ' + school + 'Success')"
   ]
  },
  {
   "cell_type": "code",
   "execution_count": 85,
   "metadata": {},
   "outputs": [
    {
     "data": {
      "text/plain": [
       "'png'"
      ]
     },
     "execution_count": 85,
     "metadata": {},
     "output_type": "execute_result"
    }
   ],
   "source": [
    "re.findall(r'image/.+?;', src)[0][6:-1]"
   ]
  },
  {
   "cell_type": "code",
   "execution_count": 47,
   "metadata": {},
   "outputs": [],
   "source": [
    "import requests\n",
    "from bs4 import BeautifulSoup"
   ]
  },
  {
   "cell_type": "code",
   "execution_count": 3,
   "metadata": {},
   "outputs": [],
   "source": [
    "res = requests.get('https://www.studying-in-uk.org/list-of-universities-in-the-united-kingdom/')\n",
    "bsObj = BeautifulSoup(res.content)"
   ]
  },
  {
   "cell_type": "code",
   "execution_count": 7,
   "metadata": {},
   "outputs": [],
   "source": [
    "uList = bsObj.select('.td-post-content ul li')"
   ]
  },
  {
   "cell_type": "code",
   "execution_count": 8,
   "metadata": {},
   "outputs": [
    {
     "data": {
      "text/plain": [
       "849"
      ]
     },
     "execution_count": 8,
     "metadata": {},
     "output_type": "execute_result"
    }
   ],
   "source": [
    "len(uList)"
   ]
  },
  {
   "cell_type": "code",
   "execution_count": null,
   "metadata": {},
   "outputs": [],
   "source": [
    "[x.get_text() for x in uList]"
   ]
  },
  {
   "cell_type": "code",
   "execution_count": null,
   "metadata": {},
   "outputs": [],
   "source": [
    "count = 0\n",
    "browser = webdriver.Chrome()\n",
    "for school in schoolList:\n",
    "    url = ''\n",
    "    try:\n",
    "        if count == 10:\n",
    "            count = 0\n",
    "            browser.close()\n",
    "            browser = webdriver.Chrome()\n",
    "        url = getUrl(school)\n",
    "        datatype = re.findall(r'image/.+?;', url)[0][6:-1]\n",
    "        downloadImg(url, './Germany/', school, datatype)\n",
    "    except:\n",
    "        print('\\nUniversity :' + school + '    failed\\n')\n",
    "        continue\n",
    "    count += 1\n",
    "    print('University : ' + school + '   Success')"
   ]
  },
  {
   "cell_type": "code",
   "execution_count": 13,
   "metadata": {},
   "outputs": [],
   "source": [
    "bsObj = BeautifulSoup(requests.get('https://en.wikipedia.org/wiki/List_of_universities_in_Germany').content)"
   ]
  },
  {
   "cell_type": "code",
   "execution_count": 37,
   "metadata": {},
   "outputs": [],
   "source": [
    "b = bsObj.select('.mw-parser-output h3 + ul a')"
   ]
  },
  {
   "cell_type": "code",
   "execution_count": 39,
   "metadata": {},
   "outputs": [],
   "source": [
    "schoolList = [item.get_text() for item in b]"
   ]
  },
  {
   "cell_type": "markdown",
   "metadata": {},
   "source": [
    "# Australia"
   ]
  },
  {
   "cell_type": "code",
   "execution_count": 53,
   "metadata": {},
   "outputs": [],
   "source": [
    "df = pd.read_html(requests.get('https://en.wikipedia.org/wiki/List_of_universities_in_Australia').content)"
   ]
  },
  {
   "cell_type": "code",
   "execution_count": 61,
   "metadata": {},
   "outputs": [],
   "source": [
    "schoolList = list(df[0][0][2:44])"
   ]
  },
  {
   "cell_type": "code",
   "execution_count": null,
   "metadata": {},
   "outputs": [],
   "source": [
    "count = 0\n",
    "browser = webdriver.Chrome()\n",
    "for school in schoolList:\n",
    "    url = ''\n",
    "    try:\n",
    "        if count == 10:\n",
    "            count = 0\n",
    "            browser.close()\n",
    "            browser = webdriver.Chrome()\n",
    "        url = getUrl(school)\n",
    "        datatype = re.findall(r'image/.+?;', url)[0][6:-1]\n",
    "        downloadImg(url, 'images/Korean/', school, datatype)\n",
    "    except:\n",
    "        print('\\nUniversity :' + school + '    failed\\n')\n",
    "        continue\n",
    "    count += 1\n",
    "    print('University : ' + school + '   Success')"
   ]
  },
  {
   "cell_type": "code",
   "execution_count": 2,
   "metadata": {},
   "outputs": [],
   "source": [
    "df = pd.read_html(requests.get('https://www.4icu.org/kr/korean-universities.htm').content)"
   ]
  },
  {
   "cell_type": "code",
   "execution_count": 5,
   "metadata": {},
   "outputs": [],
   "source": [
    "schoolList = df[0]['University']"
   ]
  }
 ],
 "metadata": {
  "kernelspec": {
   "display_name": "Data Analysis",
   "language": "python",
   "name": "da"
  },
  "language_info": {
   "codemirror_mode": {
    "name": "ipython",
    "version": 3
   },
   "file_extension": ".py",
   "mimetype": "text/x-python",
   "name": "python",
   "nbconvert_exporter": "python",
   "pygments_lexer": "ipython3",
   "version": "3.6.8"
  }
 },
 "nbformat": 4,
 "nbformat_minor": 2
}
