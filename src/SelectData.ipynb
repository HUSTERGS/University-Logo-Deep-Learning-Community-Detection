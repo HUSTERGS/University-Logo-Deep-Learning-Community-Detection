{
 "cells": [
  {
   "cell_type": "markdown",
   "metadata": {},
   "source": [
    "### 本文件用于选取中国211 985 以及美国CSRanking 在前160名的学校的校徽，作为优质数据进行模型和算法的筛选。其后还进行了数据的预处理，包括切除纯色的边框，保存为RGB格式以及Resize\n",
    "### This notebook is used to select the Chinese School of 211 and 985 program as well as the USA School from CSRanking 160th above as high equality data to process model and algorithm selection and comparetion. There are also data preprocess including cut the pure color edge, save with .jpeg(rgb) format and resize\n",
    "\n",
    "---------"
   ]
  },
  {
   "cell_type": "markdown",
   "metadata": {},
   "source": [
    "## 中国选取211 985"
   ]
  },
  {
   "cell_type": "code",
   "execution_count": 2,
   "metadata": {},
   "outputs": [],
   "source": [
    "import pandas as pd\n",
    "import os\n",
    "from shutil import copyfile\n",
    "import re"
   ]
  },
  {
   "cell_type": "code",
   "execution_count": 11,
   "metadata": {},
   "outputs": [],
   "source": [
    "df = pd.read_excel('../211 985.xlsx', names = ['names'])"
   ]
  },
  {
   "cell_type": "code",
   "execution_count": 4,
   "metadata": {},
   "outputs": [],
   "source": [
    "df = pd.read_excel('../CSRanking_USA.xlsx')"
   ]
  },
  {
   "cell_type": "code",
   "execution_count": 6,
   "metadata": {},
   "outputs": [
    {
     "data": {
      "text/plain": [
       "'/home/gs/git-repos/University-Logo-Deep-Learning-Community-Detection/data_with_class/USA'"
      ]
     },
     "execution_count": 6,
     "metadata": {},
     "output_type": "execute_result"
    }
   ],
   "source": [
    "os.chdir('./data_with_class/USA')\n",
    "os.getcwd()"
   ]
  },
  {
   "cell_type": "code",
   "execution_count": 12,
   "metadata": {},
   "outputs": [
    {
     "data": {
      "text/plain": [
       "'/home/gs/git-repos/University-Logo-Deep-Learning-Community-Detection/src'"
      ]
     },
     "execution_count": 12,
     "metadata": {},
     "output_type": "execute_result"
    }
   ],
   "source": [
    "os.getcwd()"
   ]
  },
  {
   "cell_type": "code",
   "execution_count": null,
   "metadata": {},
   "outputs": [],
   "source": [
    "for sch in df.names:\n",
    "    try:\n",
    "        copyfile('../' + sch + '_China.jpeg', '../../Selected_data_raw/China/' + sch + '_China.jpeg')\n",
    "    except:\n",
    "        print(sch)"
   ]
  },
  {
   "cell_type": "markdown",
   "metadata": {},
   "source": [
    "--------\n",
    "> 由于原始数据并没有保存，所以通过直接复制的办法并不好，全部都是已经经过resize的数据    \n",
    "> 所以针对美国的数据进行重新爬取\n",
    "--------"
   ]
  },
  {
   "cell_type": "markdown",
   "metadata": {},
   "source": [
    "# 重新爬取CSRanking 上USA前162名的学校的校徽"
   ]
  },
  {
   "cell_type": "code",
   "execution_count": 15,
   "metadata": {},
   "outputs": [],
   "source": [
    "import requests\n",
    "from selenium import webdriver\n",
    "from selenium.webdriver.common.keys import Keys\n",
    "from bs4 import BeautifulSoup\n",
    "import re\n",
    "import pandas as pd\n",
    "import html5lib\n",
    "from urllib.request import urlretrieve"
   ]
  },
  {
   "cell_type": "code",
   "execution_count": 14,
   "metadata": {},
   "outputs": [],
   "source": [
    "keywords = '{school} seal'"
   ]
  },
  {
   "cell_type": "code",
   "execution_count": 1,
   "metadata": {},
   "outputs": [],
   "source": [
    "def getUrl(browser, universityName, keywords):\n",
    "    browser.get('https://www.google.com/imghp')\n",
    "    google_input = browser.find_element_by_class_name('gLFyf')\n",
    "    google_input.send_keys(keywords.format(school = universityName))\n",
    "    google_input.send_keys(Keys.ENTER)\n",
    "    first_result = browser.find_element_by_css_selector('#rg img')\n",
    "    src = first_result.get_attribute('src')\n",
    "    return src\n",
    "\n",
    "def downloadImg(url, directory, name, datatype):\n",
    "    from urllib.request import urlretrieve\n",
    "    urlretrieve(url, directory + name + '.' + datatype)\n",
    "\n",
    "def main(keywords, country, universityList):\n",
    "    count = 0\n",
    "    browser = webdriver.Chrome()\n",
    "    for school in universityList:\n",
    "        url = ''\n",
    "        if count == 15:\n",
    "            count = 0\n",
    "            browser.close()\n",
    "            browser = webdriver.Chrome()\n",
    "        count += 1\n",
    "        try:\n",
    "            url = getUrl(browser, school, keywords)\n",
    "            datatype = re.findall(r'image/.+?;', url)[0][6:-1]\n",
    "            downloadImg(url, 'selected_data/{}/'.format(country), school, datatype)\n",
    "        except:\n",
    "            print('\\nUniversity :' + school + '    failed\\n')\n",
    "        continue\n",
    "        #print('University : ' + school + '     Success')"
   ]
  },
  {
   "cell_type": "code",
   "execution_count": null,
   "metadata": {},
   "outputs": [],
   "source": [
    "main(keywords, 'USA', [x.strip() for x in df.Institution])"
   ]
  },
  {
   "cell_type": "code",
   "execution_count": 22,
   "metadata": {},
   "outputs": [],
   "source": [
    "os.chdir('../../')"
   ]
  },
  {
   "cell_type": "code",
   "execution_count": 28,
   "metadata": {},
   "outputs": [
    {
     "data": {
      "text/plain": [
       "'/home/gs/git-repos/University-Logo-Deep-Learning-Community-Detection/selected_data/USA'"
      ]
     },
     "execution_count": 28,
     "metadata": {},
     "output_type": "execute_result"
    }
   ],
   "source": [
    "os.getcwd()"
   ]
  },
  {
   "cell_type": "markdown",
   "metadata": {},
   "source": [
    "# 处理得到的数据\n",
    "### 对爬取到的数据进行**切边**、**转换类型**、**Resize**等处理"
   ]
  },
  {
   "cell_type": "code",
   "execution_count": 3,
   "metadata": {},
   "outputs": [],
   "source": [
    "from PIL import Image, ImageChops\n",
    "\n",
    "def trim(im):\n",
    "    bg = Image.new(im.mode, im.size, im.getpixel((0,0)))\n",
    "    diff = ImageChops.difference(im, bg)\n",
    "    bbox = diff.getbbox()\n",
    "    if bbox:\n",
    "        return im.crop(bbox)"
   ]
  },
  {
   "cell_type": "code",
   "execution_count": 56,
   "metadata": {},
   "outputs": [],
   "source": [
    "os.chdir('../')"
   ]
  },
  {
   "cell_type": "code",
   "execution_count": 57,
   "metadata": {},
   "outputs": [
    {
     "data": {
      "text/plain": [
       "['USA',\n",
       " 'Indian',\n",
       " 'Korean',\n",
       " '.DS_Store',\n",
       " 'France',\n",
       " 'Netherlands',\n",
       " 'Hong Kong',\n",
       " 'Australia',\n",
       " 'Germany',\n",
       " 'Japan',\n",
       " 'China',\n",
       " 'UK',\n",
       " 'Singapore',\n",
       " 'New Zealand',\n",
       " 'data_200',\n",
       " 'Canada']"
      ]
     },
     "execution_count": 57,
     "metadata": {},
     "output_type": "execute_result"
    }
   ],
   "source": [
    "os.listdir()"
   ]
  },
  {
   "cell_type": "code",
   "execution_count": 58,
   "metadata": {},
   "outputs": [],
   "source": [
    "for sch in os.listdir():\n",
    "    if (sch!='.DS_Store' and sch!='data_200'):\n",
    "        os.chdir('./{0}/'.format(sch))\n",
    "        country = os.path.basename(os.getcwd())\n",
    "        \n",
    "        for school in os.listdir():\n",
    "        \n",
    "            im = Image.open(school)\n",
    "            result = trim(im)\n",
    "            #if sch.endswith('png') or im.format == 'JPEG' or im.format == 'JPG':\n",
    "            result = result.convert('RGB') # 转换格式为RGB\n",
    "            result = result.resize((200, 200)) # resize\n",
    "            os.remove(sch) # 删除原有图片\n",
    "\n",
    "            result.save('../data_200/{}_{}.jpeg'.format(school[:-5], country) )\n",
    "        os.chdir('../')"
   ]
  }
 ],
 "metadata": {
  "kernelspec": {
   "display_name": "Python 3",
   "language": "python",
   "name": "python3"
  },
  "language_info": {
   "codemirror_mode": {
    "name": "ipython",
    "version": 3
   },
   "file_extension": ".py",
   "mimetype": "text/x-python",
   "name": "python",
   "nbconvert_exporter": "python",
   "pygments_lexer": "ipython3",
   "version": "3.7.3"
  }
 },
 "nbformat": 4,
 "nbformat_minor": 2
}
