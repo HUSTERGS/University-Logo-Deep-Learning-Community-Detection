{
 "cells": [
  {
   "cell_type": "markdown",
   "metadata": {},
   "source": [
    "# 中国选取211 985"
   ]
  },
  {
   "cell_type": "code",
   "execution_count": 2,
   "metadata": {},
   "outputs": [],
   "source": [
    "import pandas as pd\n",
    "import os\n",
    "from shutil import copyfile\n",
    "import re"
   ]
  },
  {
   "cell_type": "code",
   "execution_count": 11,
   "metadata": {},
   "outputs": [],
   "source": [
    "df = pd.read_excel('../211 985.xlsx', names = ['names'])"
   ]
  },
  {
   "cell_type": "code",
   "execution_count": 4,
   "metadata": {},
   "outputs": [],
   "source": [
    "df = pd.read_excel('../CSRanking_USA.xlsx')"
   ]
  },
  {
   "cell_type": "code",
   "execution_count": 6,
   "metadata": {},
   "outputs": [
    {
     "data": {
      "text/plain": [
       "'/home/gs/git-repos/University-Logo-Deep-Learning-Community-Detection/data_with_class/USA'"
      ]
     },
     "execution_count": 6,
     "metadata": {},
     "output_type": "execute_result"
    }
   ],
   "source": [
    "os.chdir('./data_with_class/USA')\n",
    "os.getcwd()"
   ]
  },
  {
   "cell_type": "code",
   "execution_count": 12,
   "metadata": {},
   "outputs": [
    {
     "data": {
      "text/plain": [
       "'/home/gs/git-repos/University-Logo-Deep-Learning-Community-Detection/src'"
      ]
     },
     "execution_count": 12,
     "metadata": {},
     "output_type": "execute_result"
    }
   ],
   "source": [
    "os.getcwd()"
   ]
  },
  {
   "cell_type": "code",
   "execution_count": 9,
   "metadata": {},
   "outputs": [
    {
     "name": "stdout",
     "output_type": "stream",
     "text": [
      "中国人民大学\n",
      "清华大学\n",
      "北京交通大学\n",
      "北京工业大学\n",
      "北京航空航天大学\n",
      "北京理工大学\n",
      "北京科技大学\n",
      "北京化工大学\n",
      "北京邮电大学\n",
      "中国农业大学\n",
      "北京林业大学\n",
      "北京中医药大学\n",
      "北京师范大学\n",
      "北京外国语大学\n",
      "中国传媒大学\n",
      "中央财经大学\n",
      "对外经济贸易大学\n",
      "北京体育大学\n",
      "中央音乐学院\n",
      "中央民族大学\n",
      "中国政法大学\n",
      "华北电力大学\n",
      "南开大学\n",
      "天津大学\n",
      "天津医科大学\n",
      "河北工业大学\n",
      "太原理工大学\n",
      "内蒙古大学\n",
      "辽宁大学\n",
      "大连理工大学\n",
      "东北大学\n",
      "大连海事大学\n",
      "吉林大学\n",
      "延边大学\n",
      "东北师范大学\n",
      "哈尔滨工业大学\n",
      "哈尔滨工程大学\n",
      "东北农业大学\n",
      "东北林业大学\n",
      "复旦大学\n",
      "同济大学\n",
      "上海交通大学\n",
      "华东理工大学\n",
      "东华大学\n",
      "华东师范大学\n",
      "上海外国语大学\n",
      "上海财经大学\n",
      "上海大学\n",
      "第二军医大学 \n",
      "南京大学\n",
      "苏州大学\n",
      "东南大学\n",
      "南京航空航天大学\n",
      "南京理工大学\n",
      "中国矿业大学\n",
      "河海大学\n",
      "江南大学\n",
      "南京农业大学\n",
      "中国药科大学\n",
      "南京师范大学\n",
      "浙江大学\n",
      "安徽大学\n",
      "中国科学技术大学\n",
      "合肥工业大学\n",
      "厦门大学\n",
      "福州大学\n",
      "南昌大学\n",
      "山东大学\n",
      "中国海洋大学\n",
      "中国石油大学\n",
      "郑州大学\n",
      "武汉大学\n",
      "华中科技大学\n",
      "中国地质大学\n",
      "武汉理工大学\n",
      "华中农业大学\n",
      "华中师范大学\n",
      "中南财经政法大学\n",
      "湖南大学\n",
      "中南大学\n",
      "湖南师范大学\n",
      "国防科学技术大学\n",
      "中山大学\n",
      "暨南大学\n",
      "华南理工大学\n",
      "华南师范大学\n",
      "广西大学\n",
      "海南大学\n",
      "四川大学\n",
      "西南交通大学\n",
      "电子科技大学\n",
      "四川农业大学\n",
      "西南财经大学\n",
      "重庆大学\n",
      "西南大学\n",
      "贵州大学\n",
      "云南大学\n",
      "西藏大学\n",
      "西北大学\n",
      "西安交通大学\n",
      "西北工业大学\n",
      "西安电子科技大学\n",
      "长安大学\n",
      "西北农林科技大学\n",
      "陕西师范大学\n",
      "第四军医大学\n",
      "兰州大学\n",
      "青海大学\n",
      "宁夏大学\n",
      "新疆大学\n",
      "石河子大学\n"
     ]
    }
   ],
   "source": [
    "for sch in df.names:\n",
    "    try:\n",
    "        copyfile('../' + sch + '_China.jpeg', '../../Selected_data_raw/China/' + sch + '_China.jpeg')\n",
    "    except:\n",
    "        print(sch)"
   ]
  },
  {
   "cell_type": "markdown",
   "metadata": {},
   "source": [
    "# 重新爬取CSRanking 上USA前162名的学校的校徽"
   ]
  },
  {
   "cell_type": "code",
   "execution_count": 15,
   "metadata": {},
   "outputs": [],
   "source": [
    "import requests\n",
    "from selenium import webdriver\n",
    "from selenium.webdriver.common.keys import Keys\n",
    "from bs4 import BeautifulSoup\n",
    "import re\n",
    "import pandas as pd\n",
    "import html5lib\n",
    "from urllib.request import urlretrieve"
   ]
  },
  {
   "cell_type": "code",
   "execution_count": 14,
   "metadata": {},
   "outputs": [],
   "source": [
    "keywords = '{school} seal'"
   ]
  },
  {
   "cell_type": "code",
   "execution_count": 18,
   "metadata": {},
   "outputs": [],
   "source": [
    "def getUrl(browser, universityName, keywords):\n",
    "    browser.get('https://www.google.com/imghp')\n",
    "    google_input = browser.find_element_by_class_name('gLFyf')\n",
    "    google_input.send_keys(keywords.format(school = universityName))\n",
    "    google_input.send_keys(Keys.ENTER)\n",
    "    first_result = browser.find_element_by_css_selector('#rg img')\n",
    "    src = first_result.get_attribute('src')\n",
    "    return src\n",
    "\n",
    "def downloadImg(url, directory, name, datatype):\n",
    "    from urllib.request import urlretrieve\n",
    "    urlretrieve(url, directory + name + '.' + datatype)\n",
    "\n",
    "def main(keywords, country, universityList):\n",
    "    count = 0\n",
    "    browser = webdriver.Chrome()\n",
    "    for school in universityList:\n",
    "        url = ''\n",
    "        if count == 15:\n",
    "            count = 0\n",
    "            browser.close()\n",
    "            browser = webdriver.Chrome()\n",
    "        count += 1\n",
    "        #try:\n",
    "        url = getUrl(browser, school, keywords)\n",
    "        datatype = re.findall(r'image/.+?;', url)[0][6:-1]\n",
    "        downloadImg(url, 'selected_data/{}/'.format(country), school, datatype)\n",
    "        #except:\n",
    "        print('\\nUniversity :' + school + '    failed\\n')\n",
    "        continue\n",
    "        #print('University : ' + school + '     Success')"
   ]
  },
  {
   "cell_type": "code",
   "execution_count": null,
   "metadata": {},
   "outputs": [],
   "source": [
    "main(keywords, 'USA', [x.strip() for x in df.Institution])"
   ]
  },
  {
   "cell_type": "code",
   "execution_count": 22,
   "metadata": {},
   "outputs": [],
   "source": [
    "os.chdir('../../')"
   ]
  },
  {
   "cell_type": "code",
   "execution_count": 28,
   "metadata": {},
   "outputs": [
    {
     "data": {
      "text/plain": [
       "'/home/gs/git-repos/University-Logo-Deep-Learning-Community-Detection/selected_data/USA'"
      ]
     },
     "execution_count": 28,
     "metadata": {},
     "output_type": "execute_result"
    }
   ],
   "source": [
    "os.getcwd()"
   ]
  },
  {
   "cell_type": "markdown",
   "metadata": {},
   "source": [
    "# 处理得到的数据"
   ]
  },
  {
   "cell_type": "code",
   "execution_count": 4,
   "metadata": {},
   "outputs": [],
   "source": [
    "from PIL import Image, ImageChops\n",
    "\n",
    "def trim(im):\n",
    "    bg = Image.new(im.mode, im.size, im.getpixel((0,0)))\n",
    "    diff = ImageChops.difference(im, bg)\n",
    "    bbox = diff.getbbox()\n",
    "    if bbox:\n",
    "        return im.crop(bbox)"
   ]
  },
  {
   "cell_type": "code",
   "execution_count": 56,
   "metadata": {},
   "outputs": [],
   "source": [
    "os.chdir('../')"
   ]
  },
  {
   "cell_type": "code",
   "execution_count": 57,
   "metadata": {},
   "outputs": [
    {
     "data": {
      "text/plain": [
       "['USA',\n",
       " 'Indian',\n",
       " 'Korean',\n",
       " '.DS_Store',\n",
       " 'France',\n",
       " 'Netherlands',\n",
       " 'Hong Kong',\n",
       " 'Australia',\n",
       " 'Germany',\n",
       " 'Japan',\n",
       " 'China',\n",
       " 'UK',\n",
       " 'Singapore',\n",
       " 'New Zealand',\n",
       " 'data_200',\n",
       " 'Canada']"
      ]
     },
     "execution_count": 57,
     "metadata": {},
     "output_type": "execute_result"
    }
   ],
   "source": [
    "os.listdir()"
   ]
  },
  {
   "cell_type": "code",
   "execution_count": 58,
   "metadata": {},
   "outputs": [],
   "source": [
    "for sch in os.listdir():\n",
    "    if (sch!='.DS_Store' and sch!='data_200'):\n",
    "        os.chdir('./{0}/'.format(sch))\n",
    "        country = os.path.basename(os.getcwd())\n",
    "        \n",
    "        for school in os.listdir():\n",
    "        \n",
    "            im = Image.open(school)\n",
    "            result = trim(im)\n",
    "            #if sch.endswith('png') or im.format == 'JPEG' or im.format == 'JPG':\n",
    "            result = result.convert('RGB') # 转换格式为RGB\n",
    "            result = result.resize((200, 200)) # resize\n",
    "    #       os.remove(sch) # 删除原有图片\n",
    "\n",
    "            result.save('../data_200/{}_{}.jpeg'.format(school[:-5], country) )\n",
    "        \n",
    "        \n",
    "        os.chdir('../')"
   ]
  },
  {
   "cell_type": "code",
   "execution_count": null,
   "metadata": {},
   "outputs": [],
   "source": []
  }
 ],
 "metadata": {
  "kernelspec": {
   "display_name": "Python 3",
   "language": "python",
   "name": "python3"
  },
  "language_info": {
   "codemirror_mode": {
    "name": "ipython",
    "version": 3
   },
   "file_extension": ".py",
   "mimetype": "text/x-python",
   "name": "python",
   "nbconvert_exporter": "python",
   "pygments_lexer": "ipython3",
   "version": "3.7.1"
  }
 },
 "nbformat": 4,
 "nbformat_minor": 2
}
